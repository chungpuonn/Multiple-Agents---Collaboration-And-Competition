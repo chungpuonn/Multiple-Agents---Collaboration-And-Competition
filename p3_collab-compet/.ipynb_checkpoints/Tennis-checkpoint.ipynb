{
 "cells": [
  {
   "cell_type": "markdown",
   "metadata": {},
   "source": [
    "# Collaboration and Competition\n",
    "\n",
    "---\n",
    "\n",
    "You are welcome to use this coding environment to train your agent for the project.  Follow the instructions below to get started!\n",
    "\n",
    "### 1. Start the Environment\n",
    "\n",
    "Run the next code cell to install a few packages.  This line will take a few minutes to run!"
   ]
  },
  {
   "cell_type": "code",
   "execution_count": 4,
   "metadata": {
    "scrolled": true
   },
   "outputs": [
    {
     "name": "stdout",
     "output_type": "stream",
     "text": [
      "/bin/bash: /home/puonn/miniconda3/lib/libtinfo.so.6: no version information available (required by /bin/bash)\n",
      "\u001b[31mERROR: Invalid requirement: './python'\n",
      "Hint: It looks like a path. File './python' does not exist.\u001b[0m\n"
     ]
    }
   ],
   "source": [
    "!pip -q install ../python"
   ]
  },
  {
   "cell_type": "markdown",
   "metadata": {},
   "source": [
    "The environment is already saved in the Workspace and can be accessed at the file path provided below. "
   ]
  },
  {
   "cell_type": "code",
   "execution_count": 7,
   "metadata": {
    "scrolled": true
   },
   "outputs": [
    {
     "name": "stderr",
     "output_type": "stream",
     "text": [
      "INFO:unityagents:\n",
      "'Academy' started successfully!\n",
      "Unity Academy name: Academy\n",
      "        Number of Brains: 1\n",
      "        Number of External Brains : 1\n",
      "        Lesson number : 0\n",
      "        Reset Parameters :\n",
      "\t\t\n",
      "Unity brain name: TennisBrain\n",
      "        Number of Visual Observations (per agent): 0\n",
      "        Vector Observation space type: continuous\n",
      "        Vector Observation space size (per agent): 8\n",
      "        Number of stacked Vector Observation: 3\n",
      "        Vector Action space type: continuous\n",
      "        Vector Action space size (per agent): 2\n",
      "        Vector Action descriptions: , \n"
     ]
    }
   ],
   "source": [
    "from unityagents import UnityEnvironment\n",
    "import numpy as np\n",
    "\n",
    "env = UnityEnvironment(file_name=\"Tennis_Linux/Tennis.x86_64\")"
   ]
  },
  {
   "cell_type": "markdown",
   "metadata": {},
   "source": [
    "Environments contain **_brains_** which are responsible for deciding the actions of their associated agents. Here we check for the first brain available, and set it as the default brain we will be controlling from Python."
   ]
  },
  {
   "cell_type": "code",
   "execution_count": 8,
   "metadata": {},
   "outputs": [],
   "source": [
    "# get the default brain\n",
    "brain_name = env.brain_names[0]\n",
    "brain = env.brains[brain_name]"
   ]
  },
  {
   "cell_type": "markdown",
   "metadata": {},
   "source": [
    "### 2. Examine the State and Action Spaces\n",
    "\n",
    "Run the code cell below to print some information about the environment."
   ]
  },
  {
   "cell_type": "code",
   "execution_count": 9,
   "metadata": {},
   "outputs": [
    {
     "name": "stdout",
     "output_type": "stream",
     "text": [
      "Number of agents: 2\n",
      "Size of each action: 2\n",
      "There are 2 agents. Each observes a state with length: 24\n",
      "The state for the first agent looks like: [ 0.          0.          0.          0.          0.          0.\n",
      "  0.          0.          0.          0.          0.          0.\n",
      "  0.          0.          0.          0.         -6.65278625 -1.5\n",
      " -0.          0.          6.83172083  6.         -0.          0.        ]\n"
     ]
    }
   ],
   "source": [
    "# reset the environment\n",
    "env_info = env.reset(train_mode=True)[brain_name]\n",
    "\n",
    "# number of agents \n",
    "num_agents = len(env_info.agents)\n",
    "print('Number of agents:', num_agents)\n",
    "\n",
    "# size of each action\n",
    "action_size = brain.vector_action_space_size\n",
    "print('Size of each action:', action_size)\n",
    "\n",
    "# examine the state space \n",
    "states = env_info.vector_observations\n",
    "state_size = states.shape[1]\n",
    "print('There are {} agents. Each observes a state with length: {}'.format(states.shape[0], state_size))\n",
    "print('The state for the first agent looks like:', states[0])"
   ]
  },
  {
   "cell_type": "markdown",
   "metadata": {},
   "source": [
    "### 3. Take Random Actions in the Environment\n",
    "\n",
    "In the next code cell, you will learn how to use the Python API to control the agent and receive feedback from the environment.\n",
    "\n",
    "Note that **in this coding environment, you will not be able to watch the agents while they are training**, and you should set `train_mode=True` to restart the environment."
   ]
  },
  {
   "cell_type": "code",
   "execution_count": 10,
   "metadata": {},
   "outputs": [
    {
     "name": "stdout",
     "output_type": "stream",
     "text": [
      "Total score (averaged over agents) this episode: -0.004999999888241291\n",
      "Total score (averaged over agents) this episode: -0.004999999888241291\n",
      "Total score (averaged over agents) this episode: -0.004999999888241291\n",
      "Total score (averaged over agents) this episode: 0.09500000160187483\n",
      "Total score (averaged over agents) this episode: -0.004999999888241291\n"
     ]
    }
   ],
   "source": [
    "for i in range(5):                                         # play game for 5 episodes\n",
    "    env_info = env.reset(train_mode=False)[brain_name]     # reset the environment    \n",
    "    states = env_info.vector_observations                  # get the current state (for each agent)\n",
    "    scores = np.zeros(num_agents)                          # initialize the score (for each agent)\n",
    "    while True:\n",
    "        actions = np.random.randn(num_agents, action_size) # select an action (for each agent)\n",
    "        actions = np.clip(actions, -1, 1)                  # all actions between -1 and 1\n",
    "        env_info = env.step(actions)[brain_name]           # send all actions to tne environment\n",
    "        next_states = env_info.vector_observations         # get next state (for each agent)\n",
    "        rewards = env_info.rewards                         # get reward (for each agent)\n",
    "        dones = env_info.local_done                        # see if episode finished\n",
    "        scores += env_info.rewards                         # update the score (for each agent)\n",
    "        states = next_states                               # roll over states to next time step\n",
    "        if np.any(dones):                                  # exit loop if episode finished\n",
    "            break\n",
    "    print('Total score (averaged over agents) this episode: {}'.format(np.mean(scores)))"
   ]
  },
  {
   "cell_type": "markdown",
   "metadata": {},
   "source": [
    "When finished, you can close the environment."
   ]
  },
  {
   "cell_type": "code",
   "execution_count": null,
   "metadata": {},
   "outputs": [],
   "source": [
    "env.close()"
   ]
  },
  {
   "cell_type": "markdown",
   "metadata": {},
   "source": [
    "### 4. It's Your Turn!\n",
    "\n",
    "Now it's your turn to train your own agent to solve the environment!  A few **important notes**:\n",
    "- When training the environment, set `train_mode=True`, so that the line for resetting the environment looks like the following:\n",
    "```python\n",
    "env_info = env.reset(train_mode=True)[brain_name]\n",
    "```\n",
    "- To structure your work, you're welcome to work directly in this Jupyter notebook, or you might like to start over with a new file!  You can see the list of files in the workspace by clicking on **_Jupyter_** in the top left corner of the notebook.\n",
    "- In this coding environment, you will not be able to watch the agents while they are training.  However, **_after training the agents_**, you can download the saved model weights to watch the agents on your own machine! "
   ]
  },
  {
   "cell_type": "code",
   "execution_count": 11,
   "metadata": {},
   "outputs": [],
   "source": [
    "import random\n",
    "import torch\n",
    "from collections import deque\n",
    "import matplotlib.pyplot as plt\n",
    "%matplotlib inline\n",
    "from maddpg_agent import Agent"
   ]
  },
  {
   "cell_type": "code",
   "execution_count": 12,
   "metadata": {},
   "outputs": [],
   "source": [
    "# create a new agent\n",
    "agent = Agent(state_size = state_size, action_size = action_size, random_seed = 40, num_agents=2)"
   ]
  },
  {
   "cell_type": "code",
   "execution_count": 12,
   "metadata": {
    "scrolled": true
   },
   "outputs": [
    {
     "name": "stdout",
     "output_type": "stream",
     "text": [
      "Episode 100\tAverage Score: 0.02rage maximum score over the last 10 episodes: 0.02\n",
      "Episode 200\tAverage Score: 0.32rage maximum score over the last 10 episodes: 0.56\n",
      "Episode 219\tmax score: 2.60\taverage maximum score over the last 10 episodes: 1.37\n",
      "Environment solved in 119 episodes!\tAverage Score: 0.51\n"
     ]
    }
   ],
   "source": [
    "def maddpg(n_episodes=10000, max_t=10000, print_every=100):\n",
    "    scores_deque = deque(maxlen=print_every)\n",
    "    scores = []\n",
    "    beta = 1.0  # factor the random noise gets multiplied with\n",
    "    for i_episode in range(1, n_episodes+1):\n",
    "        env_info = env.reset(train_mode=True)[brain_name]\n",
    "        states = env_info.vector_observations  # get the current states\n",
    "        e_scores = np.zeros(2)  # the scores of an episode for both tennis agents\n",
    "        agent.reset()\n",
    "        for t in range(max_t):\n",
    "            if i_episode < 100:\n",
    "                actions = np.random.randn(2, 2)  # use random actions for the first 100 episodes\n",
    "            else:\n",
    "                actions = agent.act(states, add_noise=True, apply_noise_decay=True)  # let the agent select actions\n",
    "            actions_other_player = np.flip(actions, 0)          # The actions of the other player\n",
    "            env_info = env.step(actions)[brain_name]            # execute the selected actions and save the new information about the environment\n",
    "            rewards = env_info.rewards                          # get the rewards\n",
    "            next_states = env_info.vector_observations          # get the resulting states\n",
    "            next_states_other_player = np.flip(next_states, 0)  # get the resulting states for the other player\n",
    "            dones = env_info.local_done                         # check whether episodes have finished\n",
    "            agent.step(states, actions, rewards, next_states, dones)  # pass the information to the agent\n",
    "            states = next_states\n",
    "            e_scores += rewards\n",
    "            if np.any(dones):\n",
    "                break\n",
    "        max_score = np.max(e_scores)  # the max score of the agents\n",
    "        scores_deque.append(max_score)\n",
    "        scores.append(max_score)\n",
    "        beta = max(0.999 * beta, 0.01)  # reduce the noise a bit while training\n",
    "        print('\\rEpisode {:d}\\tmax score: {:.2f}\\taverage maximum score over the last 10 episodes: {:.2f}'.format(i_episode, scores_deque[-1], np.mean(list(scores_deque)[-10:])), end=\"\")\n",
    "        if i_episode % 250 == 0:\n",
    "            torch.save(agent.actor_local.state_dict(), 'weights/checkpoint_actor_{:d}_{:.2f}.pth'.format(i_episode, scores_deque[-1]))\n",
    "            torch.save(agent.critic_local.state_dict(), 'weights/checkpoint_critic_{:d}_{:.2f}.pth'.format(i_episode, scores_deque[-1]))\n",
    "        if i_episode > 100 and np.mean(scores_deque) > 0.5:\n",
    "            torch.save(agent.actor_local.state_dict(), 'weights/checkpoint_actor.pth')\n",
    "            torch.save(agent.critic_local.state_dict(), 'weights/checkpoint_critic.pth')\n",
    "            print('\\nEnvironment solved in {:d} episodes!\\tAverage Score: {:.2f}'.format(i_episode-100, np.mean(scores_deque)))\n",
    "            break\n",
    "        if i_episode % print_every == 0:\n",
    "            print('\\rEpisode {}\\tAverage Score: {:.2f}'.format(i_episode, np.mean(scores_deque)))\n",
    "            \n",
    "    return scores\n",
    "\n",
    "scores = maddpg()\n",
    "env.close()  # close the environment as it is no longer needed"
   ]
  },
  {
   "cell_type": "markdown",
   "metadata": {},
   "source": [
    "Plot the scores"
   ]
  },
  {
   "cell_type": "code",
   "execution_count": 13,
   "metadata": {},
   "outputs": [
    {
     "data": {
      "image/png": "[encoded data removed]",
      "text/plain": [
       "<Figure size 432x288 with 1 Axes>"
      ]
     },
     "metadata": {
      "needs_background": "light"
     },
     "output_type": "display_data"
    }
   ],
   "source": [
    "fig = plt.figure()\n",
    "ax = fig.add_subplot(111)\n",
    "plt.plot(np.arange(1, len(scores)+1), scores)\n",
    "plt.ylabel('Score')\n",
    "plt.xlabel('Episode #')\n",
    "plt.show()"
   ]
  },
  {
   "cell_type": "code",
   "execution_count": 14,
   "metadata": {
    "scrolled": true
   },
   "outputs": [
    {
     "ename": "NameError",
     "evalue": "name 'averages' is not defined",
     "output_type": "error",
     "traceback": [
      "\u001b[0;31m---------------------------------------------------------------------------\u001b[0m",
      "\u001b[0;31mNameError\u001b[0m                                 Traceback (most recent call last)",
      "\u001b[0;32m<ipython-input-14-8fc524133f4f>\u001b[0m in \u001b[0;36m<module>\u001b[0;34m\u001b[0m\n\u001b[1;32m      2\u001b[0m \u001b[0max\u001b[0m \u001b[0;34m=\u001b[0m \u001b[0mfig\u001b[0m\u001b[0;34m.\u001b[0m\u001b[0madd_subplot\u001b[0m\u001b[0;34m(\u001b[0m\u001b[0;36m111\u001b[0m\u001b[0;34m)\u001b[0m\u001b[0;34m\u001b[0m\u001b[0;34m\u001b[0m\u001b[0m\n\u001b[1;32m      3\u001b[0m \u001b[0mplt\u001b[0m\u001b[0;34m.\u001b[0m\u001b[0mplot\u001b[0m\u001b[0;34m(\u001b[0m\u001b[0mnp\u001b[0m\u001b[0;34m.\u001b[0m\u001b[0marange\u001b[0m\u001b[0;34m(\u001b[0m\u001b[0;36m1\u001b[0m\u001b[0;34m,\u001b[0m \u001b[0mlen\u001b[0m\u001b[0;34m(\u001b[0m\u001b[0mscores\u001b[0m\u001b[0;34m)\u001b[0m\u001b[0;34m+\u001b[0m\u001b[0;36m1\u001b[0m\u001b[0;34m)\u001b[0m\u001b[0;34m,\u001b[0m \u001b[0mscores\u001b[0m\u001b[0;34m,\u001b[0m \u001b[0mlabel\u001b[0m\u001b[0;34m=\u001b[0m\u001b[0;34m'Scores'\u001b[0m\u001b[0;34m)\u001b[0m\u001b[0;34m\u001b[0m\u001b[0;34m\u001b[0m\u001b[0m\n\u001b[0;32m----> 4\u001b[0;31m \u001b[0mplt\u001b[0m\u001b[0;34m.\u001b[0m\u001b[0mplot\u001b[0m\u001b[0;34m(\u001b[0m\u001b[0mnp\u001b[0m\u001b[0;34m.\u001b[0m\u001b[0marange\u001b[0m\u001b[0;34m(\u001b[0m\u001b[0mlen\u001b[0m\u001b[0;34m(\u001b[0m\u001b[0mscores\u001b[0m\u001b[0;34m)\u001b[0m\u001b[0;34m)\u001b[0m\u001b[0;34m,\u001b[0m \u001b[0maverages\u001b[0m\u001b[0;34m,\u001b[0m \u001b[0mc\u001b[0m\u001b[0;34m=\u001b[0m\u001b[0;34m'r'\u001b[0m\u001b[0;34m,\u001b[0m \u001b[0mlabel\u001b[0m\u001b[0;34m=\u001b[0m\u001b[0;34m'Average'\u001b[0m\u001b[0;34m)\u001b[0m\u001b[0;34m\u001b[0m\u001b[0;34m\u001b[0m\u001b[0m\n\u001b[0m\u001b[1;32m      5\u001b[0m \u001b[0mplt\u001b[0m\u001b[0;34m.\u001b[0m\u001b[0mylabel\u001b[0m\u001b[0;34m(\u001b[0m\u001b[0;34m'Score'\u001b[0m\u001b[0;34m)\u001b[0m\u001b[0;34m\u001b[0m\u001b[0;34m\u001b[0m\u001b[0m\n\u001b[1;32m      6\u001b[0m \u001b[0mplt\u001b[0m\u001b[0;34m.\u001b[0m\u001b[0mxlabel\u001b[0m\u001b[0;34m(\u001b[0m\u001b[0;34m'Episode #'\u001b[0m\u001b[0;34m)\u001b[0m\u001b[0;34m\u001b[0m\u001b[0;34m\u001b[0m\u001b[0m\n",
      "\u001b[0;31mNameError\u001b[0m: name 'averages' is not defined"
     ]
    },
    {
     "data": {
      "image/png": "[encoded data removed]",
      "text/plain": [
       "<Figure size 720x288 with 1 Axes>"
      ]
     },
     "metadata": {
      "needs_background": "light"
     },
     "output_type": "display_data"
    }
   ],
   "source": [
    "fig = plt.figure(figsize=(10,4))\n",
    "ax = fig.add_subplot(111)\n",
    "plt.plot(np.arange(1, len(scores)+1), scores, label='Scores')\n",
    "plt.plot(np.arange(len(scores)), averages, c='r', label='Average')\n",
    "plt.ylabel('Score')\n",
    "plt.xlabel('Episode #')\n",
    "ax.legend(fontsize='large', loc='upper left')\n",
    "plt.show()"
   ]
  },
  {
   "cell_type": "code",
   "execution_count": 29,
   "metadata": {},
   "outputs": [
    {
     "name": "stdout",
     "output_type": "stream",
     "text": [
      "OrderedDict([('fc1.weight', tensor(1.00000e-03 *\n",
      "       [[ 2.8804, -0.0066,  0.7818,  ..., -0.9968,  1.6961,  0.0167],\n",
      "        [-0.1806,  1.9700, -2.4112,  ...,  2.7823, -0.4678, -0.5932],\n",
      "        [-2.8200,  2.1388,  1.8990,  ..., -0.8999,  0.1817,  2.8460],\n",
      "        ...,\n",
      "        [ 2.7159,  0.0859, -2.1479,  ..., -2.3397, -0.2470, -1.5802],\n",
      "        [-0.7785,  2.3776, -2.5064,  ...,  0.1389,  0.2637,  1.9272],\n",
      "        [-2.8128, -2.8314,  0.6546,  ..., -1.3772,  2.5670, -2.7504]], device='cuda:0')), ('fc1.bias', tensor([-0.0783,  0.1145,  0.0969,  0.1125, -0.0486, -0.1788, -0.1999,\n",
      "         0.0167, -0.1975, -0.1346,  0.1334, -0.0314,  0.0712, -0.1606,\n",
      "         0.0324,  0.1839,  0.0371,  0.0360, -0.1260, -0.1476,  0.1190,\n",
      "        -0.1827, -0.0125, -0.1636,  0.0143, -0.2000,  0.0676,  0.0003,\n",
      "        -0.1342, -0.0760, -0.0816, -0.0916, -0.0509,  0.0376, -0.1174,\n",
      "         0.0515, -0.1682,  0.1922, -0.1223,  0.0868, -0.1397, -0.1393,\n",
      "        -0.0300, -0.1163, -0.0571, -0.0888, -0.0571, -0.1578,  0.1991,\n",
      "         0.1151, -0.0729,  0.1482, -0.0909, -0.1667,  0.0654, -0.0702,\n",
      "         0.1535, -0.0549, -0.1662,  0.1721,  0.0458,  0.0620, -0.0197,\n",
      "        -0.1623,  0.0657,  0.0006, -0.1351,  0.1163, -0.1911, -0.1267,\n",
      "        -0.0476, -0.1913, -0.1838, -0.0613, -0.0385,  0.1497,  0.0953,\n",
      "         0.1898,  0.0634,  0.0273, -0.0393, -0.0861, -0.1829, -0.1864,\n",
      "         0.0869, -0.1292, -0.0837,  0.0954, -0.1262,  0.0755, -0.0113,\n",
      "         0.0421, -0.0930,  0.1488, -0.1670, -0.1906,  0.1593, -0.1379,\n",
      "         0.1959,  0.0907,  0.0788, -0.0253,  0.0384,  0.0523, -0.0960,\n",
      "         0.1502,  0.1255,  0.0120,  0.0585, -0.0248, -0.0737, -0.1573,\n",
      "        -0.0784, -0.1955, -0.0642,  0.1068,  0.1981, -0.1868, -0.1697,\n",
      "         0.1685, -0.0721,  0.0003,  0.1281,  0.1808,  0.0773,  0.0506,\n",
      "        -0.0049,  0.0051,  0.0824, -0.1920, -0.1976,  0.1376, -0.1998,\n",
      "         0.1073,  0.1478,  0.1354,  0.0623,  0.0227,  0.0943,  0.1216,\n",
      "         0.0064, -0.1469,  0.1270,  0.0227,  0.1230, -0.1368, -0.0510,\n",
      "        -0.1311,  0.0117,  0.1735,  0.0388,  0.1735,  0.1500, -0.1404,\n",
      "         0.1959,  0.0113,  0.1709,  0.0395, -0.0349,  0.1733, -0.1510,\n",
      "         0.0046, -0.0286,  0.0092, -0.0586,  0.1621, -0.0107,  0.0843,\n",
      "         0.0879,  0.1860,  0.0734, -0.2035, -0.1692, -0.1928, -0.2001,\n",
      "        -0.1698, -0.0030,  0.1932, -0.1321,  0.0859, -0.0931,  0.1581,\n",
      "         0.1328,  0.0948,  0.1798, -0.1540, -0.1733, -0.1043,  0.0414,\n",
      "         0.1805,  0.1348,  0.0638, -0.0362, -0.1159,  0.2030, -0.1787,\n",
      "        -0.1408,  0.1201,  0.1592,  0.0536, -0.0036, -0.0243,  0.0266,\n",
      "        -0.1027,  0.2018,  0.2039, -0.0790,  0.1417, -0.0485, -0.1481,\n",
      "         0.0350, -0.0390,  0.1697,  0.0141, -0.0448, -0.1621,  0.1335,\n",
      "         0.1362,  0.0287, -0.0179, -0.0684,  0.0473,  0.1959, -0.0336,\n",
      "         0.0186, -0.1945,  0.0521, -0.0875, -0.0484, -0.1083,  0.1890,\n",
      "         0.1390, -0.0879, -0.0501,  0.0622,  0.0768, -0.0961,  0.0829,\n",
      "         0.0325,  0.1173, -0.1103, -0.1318,  0.0949, -0.0080, -0.0889,\n",
      "         0.1602, -0.0227, -0.1363, -0.0291, -0.0946, -0.0705, -0.1680,\n",
      "         0.1629,  0.1796, -0.1722,  0.1277], device='cuda:0')), ('fc2.weight', tensor(1.00000e-03 *\n",
      "       [[-1.7698, -2.7740,  0.0575,  ..., -0.9003, -0.4471, -2.3002],\n",
      "        [-0.8465, -2.3061, -0.2885,  ...,  0.9908, -2.0993, -2.7543],\n",
      "        [-0.4546, -0.4410, -0.7691,  ..., -2.6887, -2.4422,  0.0625],\n",
      "        ...,\n",
      "        [ 2.1745,  2.1162, -1.7456,  ...,  2.3428,  2.1045,  1.4823],\n",
      "        [ 0.4421,  0.0557, -0.8406,  ..., -0.8896,  0.9464,  2.8801],\n",
      "        [-0.8375,  1.2742,  0.6943,  ..., -0.7729, -0.3036,  0.2862]], device='cuda:0')), ('fc2.bias', tensor(1.00000e-02 *\n",
      "       [ 6.1234,  1.8023, -3.9943,  0.4216,  1.3560,  1.2608,  1.4182,\n",
      "        -5.8842,  1.4175,  5.1875,  3.8056,  4.0152, -3.8881, -2.7692,\n",
      "        -3.6058, -0.1942, -5.6209,  1.3750, -3.8785, -1.8741, -3.3283,\n",
      "        -0.4170,  1.4804,  1.5901,  5.2291, -0.1442, -5.9430,  2.3782,\n",
      "         1.5447, -3.9117,  1.5562,  2.0617, -5.5965, -3.3534, -5.9489,\n",
      "        -1.8520,  4.3837,  1.8826,  1.0241, -5.4386,  2.4272,  5.7745,\n",
      "         1.2741,  3.7269,  3.3860, -1.8864, -4.3601,  4.4927, -3.0894,\n",
      "        -4.0053, -4.8442, -1.9922, -3.0602,  2.0150, -2.1895,  6.2150,\n",
      "        -0.0019,  4.4108, -1.1238,  5.0238, -0.8391, -2.7570, -3.8398,\n",
      "         2.9937,  2.8775,  5.6213, -3.5820, -2.5788, -4.3811,  4.3859,\n",
      "         2.2654, -5.5557,  2.5967, -1.4196,  1.3376,  2.1814, -5.5204,\n",
      "         4.9952, -3.3123, -5.6383, -0.6191, -1.9712, -0.4290, -4.0451,\n",
      "         0.6309,  0.2160, -2.0419, -4.9356,  4.7730, -4.4186,  3.5414,\n",
      "         5.8798,  0.5574, -0.7515,  1.2448,  1.1566,  5.8213,  0.4172,\n",
      "         2.4052,  2.0836,  3.7602,  3.2694, -3.5391,  3.8410, -4.4513,\n",
      "        -3.4231, -1.3192,  0.1616,  0.0841,  5.6106, -3.3234, -5.3753,\n",
      "        -1.2866,  4.9496,  1.2596,  1.9593, -1.4094, -2.3483,  2.6095,\n",
      "        -1.0852,  3.1038,  5.5572,  3.2578, -1.7477,  0.4631,  3.8804,\n",
      "         4.4990, -2.3268], device='cuda:0')), ('fc3.weight', tensor(1.00000e-03 *\n",
      "       [[ 0.6154, -1.5024, -1.5258, -1.6578, -2.5520, -1.2771,  2.0435,\n",
      "         -1.8928,  0.0357,  2.3477,  0.1162,  2.8176, -2.8033, -0.0506,\n",
      "          0.9542,  2.7532, -0.3056, -2.3316, -0.3393, -0.1520, -1.7966,\n",
      "          0.1563, -1.1765, -2.4795, -1.4022, -0.6498, -1.6788,  1.5660,\n",
      "         -1.7154,  0.9632, -2.2971,  0.1954, -2.8389,  0.9845, -1.3209,\n",
      "         -1.2271, -0.0830, -2.2707,  1.4167,  0.6027,  0.1562,  0.8934,\n",
      "          0.6167, -1.1819, -1.3026, -1.2786,  0.6161, -2.0846, -0.0308,\n",
      "          1.9615, -0.0740,  2.4865,  1.6975, -2.7378, -2.4421,  2.8337,\n",
      "          1.3737, -2.8526,  0.5129,  1.3167,  1.1638,  0.8636,  0.6720,\n",
      "         -1.9586,  1.2995,  0.6197, -2.5682, -1.6667,  2.0274, -0.1019,\n",
      "          2.8554,  1.5978, -1.6158,  0.2154, -2.6915, -1.7357, -2.8795,\n",
      "         -2.4067, -0.0947, -2.0110, -2.7107, -2.3077, -2.5372,  0.9562,\n",
      "         -1.1736,  0.8125, -0.9793, -1.1849, -0.2105, -0.5219,  1.7608,\n",
      "         -1.6463,  1.2813, -2.1355, -0.8467, -1.3448,  0.3925,  1.4219,\n",
      "          1.2649, -0.4345,  1.8964, -0.5149, -1.7063,  2.1612,  1.4985,\n",
      "          0.4119,  0.4945,  2.0874, -0.2414,  0.8706,  0.1559, -2.5726,\n",
      "         -2.1403, -2.9656, -0.3859, -2.4421, -2.6640, -2.1183, -2.5545,\n",
      "          0.6773, -0.5375,  1.0494,  1.1090,  0.0621, -1.3572, -1.5763,\n",
      "          2.6309, -2.9069],\n",
      "        [-1.2573,  2.4976,  0.5710,  2.5732, -2.7334, -1.3822,  0.8569,\n",
      "         -2.9337,  2.9885,  0.3094,  0.0568, -0.8416,  1.7294,  0.2256,\n",
      "         -2.2855,  1.4242,  2.7706,  2.6262,  1.3096, -2.6660,  1.5068,\n",
      "          0.8973, -2.8972, -1.0640, -2.8171, -1.3439, -1.0086, -1.9748,\n",
      "          1.0886, -1.0174, -2.4715, -2.4189, -1.0875,  0.9677, -0.5124,\n",
      "          0.2016,  1.4947,  2.6333, -1.6940,  2.9776,  2.7523,  2.0443,\n",
      "          1.9216,  1.4376, -2.7348,  1.9477,  0.0185,  0.7278, -1.5858,\n",
      "         -2.4140, -2.2429, -0.7287,  2.4817, -1.5820, -0.5096,  0.2550,\n",
      "         -1.9944, -1.8995,  0.8104,  2.2957, -2.8888, -0.7164, -0.7391,\n",
      "         -0.4703,  2.6017,  0.3369, -1.1537, -0.2738, -0.3156, -2.8725,\n",
      "         -0.3069,  0.6148,  0.3050,  0.4985, -2.2963, -0.5755,  0.1098,\n",
      "         -1.4538, -1.1845,  1.3875,  2.0410, -1.9957, -0.3007, -1.4435,\n",
      "         -2.9848, -2.1812,  1.4609, -1.6293,  1.5918, -1.5405, -1.6009,\n",
      "          0.0168,  1.6961,  2.2754,  2.6291, -0.8007,  1.6308, -2.9363,\n",
      "         -0.0843,  0.2337,  0.2285,  0.8787,  1.6401,  2.0744, -0.0894,\n",
      "         -1.6660, -1.7419, -0.4870,  1.7892,  1.1404, -2.3197,  1.5867,\n",
      "          1.4903, -2.5862,  0.3623, -1.9849, -2.5164,  0.5159, -1.1244,\n",
      "          2.5270, -1.5059,  0.7029, -0.6693, -1.9308, -0.8655,  0.9586,\n",
      "          0.9815, -0.5030]], device='cuda:0')), ('fc3.bias', tensor(1.00000e-02 *\n",
      "       [ 0.6940,  1.9772], device='cuda:0'))])\n"
     ]
    }
   ],
   "source": [
    "agent = Agent(state_size = state_size, action_size = action_size, random_seed = 0, num_agents=2)\n",
    "\n",
    "\n",
    "agent.actor_local.load_state_dict(torch.load('weights/checkpoint_actor.pth'))\n",
    "agent.critic_local.load_state_dict(torch.load('weights/checkpoint_critic.pth'))\n",
    "\n",
    "# agent.test(env, n_episodes=5)"
   ]
  },
  {
   "cell_type": "code",
   "execution_count": 30,
   "metadata": {},
   "outputs": [
    {
     "name": "stdout",
     "output_type": "stream",
     "text": [
      "Total score (averaged over agents) this episode: -0.004999999888241291\n",
      "Total score (averaged over agents) this episode: -0.004999999888241291\n",
      "Total score (averaged over agents) this episode: -0.004999999888241291\n",
      "Total score (averaged over agents) this episode: -0.004999999888241291\n",
      "Total score (averaged over agents) this episode: -0.004999999888241291\n"
     ]
    }
   ],
   "source": [
    "# Test\n",
    "\n",
    "for i in range(5):\n",
    "    # get the default brain                                 \n",
    "    brain_name = env.brain_names[0]\n",
    "    brain = env.brains[brain_name]                           \n",
    "    env_info = env.reset(train_mode=False)[brain_name]     # reset the environment    \n",
    "    states = env_info.vector_observations                  # get the current state (for each agent)\n",
    "    scores = np.zeros(agent.num_agents)                     # initialize the score (for each agent)\n",
    "    while True:\n",
    "        actions = agent.act(states, add_noise=False)        # select an action (for each agent)\n",
    "        env_info = env.step(actions)[brain_name]           # send all actions to tne environment\n",
    "        next_states = env_info.vector_observations         # get next state (for each agent)\n",
    "        rewards = env_info.rewards                         # get reward (for each agent)\n",
    "        dones = env_info.local_done                        # see if episode finished\n",
    "        scores += env_info.rewards                         # update the score (for each agent)\n",
    "        states = next_states                               # roll over states to next time step\n",
    "        if np.any(dones):                                  # exit loop if episode finished\n",
    "            break                                          \n",
    "    print('Total score (averaged over agents) this episode: {}'.format(np.mean(scores)))"
   ]
  }
 ],
 "metadata": {
  "kernelspec": {
   "display_name": "drlnd",
   "language": "python",
   "name": "drlnd"
  },
  "language_info": {
   "codemirror_mode": {
    "name": "ipython",
    "version": 3
   },
   "file_extension": ".py",
   "mimetype": "text/x-python",
   "name": "python",
   "nbconvert_exporter": "python",
   "pygments_lexer": "ipython3",
   "version": "3.6.13"
  }
 },
 "nbformat": 4,
 "nbformat_minor": 2
}
